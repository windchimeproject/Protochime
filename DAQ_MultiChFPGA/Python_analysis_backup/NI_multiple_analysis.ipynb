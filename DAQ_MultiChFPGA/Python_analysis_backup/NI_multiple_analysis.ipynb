{
 "cells": [
  {
   "cell_type": "code",
   "execution_count": 1,
   "id": "74a8eb35",
   "metadata": {},
   "outputs": [],
   "source": [
    "#Shengchao, Juan \n",
    "#Apr.2021\n",
    "#v1.1\n",
    "#\n",
    "#Edited by Aidan, added multiple iterations\n",
    "#Jun.2021\n",
    "#July 15, new version, Juan, cleaning the code\n",
    "\n",
    "\n",
    "import numpy as np\n",
    "import pandas as pd\n",
    "import scipy\n",
    "import scipy.stats\n",
    "import scipy.optimize as op\n",
    "from scipy.optimize import curve_fit\n",
    "import os\n",
    "from scipy.integrate import quad \n",
    "import datetime\n",
    "\n",
    "import matplotlib\n",
    "import matplotlib.pyplot as plt\n",
    "import matplotlib.image as mpimg\n",
    "from matplotlib.colors import LogNorm\n",
    "#from multihist import Histdd\n",
    "\n",
    "\n",
    "import time\n",
    "import sys\n",
    "import tqdm\n",
    "\n",
    "import math\n",
    "import random\n",
    "import numba\n",
    "\n",
    "from scipy.stats import norm\n",
    "\n",
    "import struct"
   ]
  },
  {
   "cell_type": "code",
   "execution_count": 2,
   "id": "0a7cbc18",
   "metadata": {},
   "outputs": [],
   "source": [
    "import numpy, scipy.optimize\n",
    "\n",
    "def fit_sin(tt, yy):\n",
    "    '''Fit sin to the input time sequence, and return fitting parameters \"amp\", \"omega\", \"phase\", \"offset\", \"freq\", \"period\" and \"fitfunc\"'''\n",
    "    tt = numpy.array(tt)\n",
    "    yy = numpy.array(yy)\n",
    "    ff = numpy.fft.fftfreq(len(tt), (tt[1]-tt[0]))   # assume uniform spacing\n",
    "    Fyy = abs(numpy.fft.fft(yy))\n",
    "    guess_freq = abs(ff[numpy.argmax(Fyy[1:])+1])   # excluding the zero frequency \"peak\", which is related to offset\n",
    "    guess_amp = numpy.std(yy) * 2.**0.5\n",
    "    guess_offset = numpy.mean(yy)\n",
    "    guess = numpy.array([guess_amp, 2.*numpy.pi*guess_freq, 0., guess_offset])\n",
    "\n",
    "    def sinfunc(t, A, w, p, c):  return A * numpy.sin(w*t + p) + c\n",
    "    popt, pcov = scipy.optimize.curve_fit(sinfunc, tt, yy, p0=guess)\n",
    "    A, w, p, c = popt\n",
    "    f = w/(2.*numpy.pi)\n",
    "    fitfunc = lambda t: A * numpy.sin(w*t + p) + c\n",
    "    return {\"amp\": A, \"omega\": w, \"phase\": p, \"offset\": c, \"freq\": f, \"period\": 1./f, \"fitfunc\": fitfunc, \"maxcov\": numpy.max(pcov), \"rawres\": (guess,popt,pcov)}"
   ]
  },
  {
   "cell_type": "code",
   "execution_count": 163,
   "id": "6fac9d9d",
   "metadata": {},
   "outputs": [
    {
     "name": "stdout",
     "output_type": "stream",
     "text": [
      "binary file received is size (2621370,)\n",
      "(655340, 4)\n"
     ]
    }
   ],
   "source": [
    "#read file for multiple channels\n",
    "channels=4\n",
    "dmafiforeq=65534 #requested number of elements of the dma fifo in the PC code, set to 2xDMA FIFO depth\n",
    "iterations=10 #number of iterations of the PC code, if labview says x iterations, there are x+1\n",
    "fileName = '/Users/DAQ/Desktop/NIMultiple/binaryNEW_trigger_mult.dat'\n",
    "data_raw = numpy.fromfile(fileName, dtype=\"<d\") #> for big endian, < for little, d for double (already come as voltages), first element of every iteration removed\n",
    "print(\"binary file received is size \"+str(data_raw.shape))\n",
    "rows=int(len(data_raw)/channels)\n",
    "#create matrix where each column is an iteration\n",
    "iter_matrix=np.reshape(data_raw,(iterations,(dmafiforeq*channels)+1))\n",
    "iter_matrix=np.delete(iter_matrix,(0), axis=1) #deleting first column, which is the first value read per iteration\n",
    "#creating one array per channel: first 65534*(x+1) elements in each row corresponds to channel x, x from 0 to channels\n",
    "\n",
    "\n",
    "temp0=np.reshape(iter_matrix[:,0:dmafiforeq],(1,dmafiforeq*iterations))\n",
    "temp1=np.reshape(iter_matrix[:,dmafiforeq:2*dmafiforeq],(1,dmafiforeq*iterations))\n",
    "temp2=np.reshape(iter_matrix[:,2*dmafiforeq:3*dmafiforeq],(1,dmafiforeq*iterations))\n",
    "temp3=np.reshape(iter_matrix[:,3*dmafiforeq:4*dmafiforeq],(1,dmafiforeq*iterations))\n",
    "\n",
    "channels=np.transpose(np.array([temp0[0],temp1[0],temp2[0],temp3[0]])) #1 channel per column\n",
    "print(np.shape(channels))\n",
    "\n",
    "data=pd.DataFrame(channels, columns=None) #channel 1 is labeled as 0, channel n is labeled as n-1"
   ]
  },
  {
   "cell_type": "code",
   "execution_count": 173,
   "id": "0273f78f",
   "metadata": {},
   "outputs": [
    {
     "data": {
      "text/html": [
       "<div>\n",
       "<style scoped>\n",
       "    .dataframe tbody tr th:only-of-type {\n",
       "        vertical-align: middle;\n",
       "    }\n",
       "\n",
       "    .dataframe tbody tr th {\n",
       "        vertical-align: top;\n",
       "    }\n",
       "\n",
       "    .dataframe thead th {\n",
       "        text-align: right;\n",
       "    }\n",
       "</style>\n",
       "<table border=\"1\" class=\"dataframe\">\n",
       "  <thead>\n",
       "    <tr style=\"text-align: right;\">\n",
       "      <th></th>\n",
       "      <th>0</th>\n",
       "      <th>1</th>\n",
       "      <th>2</th>\n",
       "      <th>3</th>\n",
       "      <th>time_us</th>\n",
       "    </tr>\n",
       "  </thead>\n",
       "  <tbody>\n",
       "    <tr>\n",
       "      <th>0</th>\n",
       "      <td>0.010620</td>\n",
       "      <td>-0.023682</td>\n",
       "      <td>-0.025269</td>\n",
       "      <td>-0.018799</td>\n",
       "      <td>0.0</td>\n",
       "    </tr>\n",
       "    <tr>\n",
       "      <th>1</th>\n",
       "      <td>0.052247</td>\n",
       "      <td>-0.023682</td>\n",
       "      <td>-0.025391</td>\n",
       "      <td>-0.019165</td>\n",
       "      <td>0.4</td>\n",
       "    </tr>\n",
       "    <tr>\n",
       "      <th>2</th>\n",
       "      <td>0.077150</td>\n",
       "      <td>-0.023926</td>\n",
       "      <td>-0.025757</td>\n",
       "      <td>-0.018921</td>\n",
       "      <td>0.8</td>\n",
       "    </tr>\n",
       "    <tr>\n",
       "      <th>3</th>\n",
       "      <td>0.079225</td>\n",
       "      <td>-0.023804</td>\n",
       "      <td>-0.025269</td>\n",
       "      <td>-0.018799</td>\n",
       "      <td>1.2</td>\n",
       "    </tr>\n",
       "    <tr>\n",
       "      <th>4</th>\n",
       "      <td>0.057740</td>\n",
       "      <td>-0.023926</td>\n",
       "      <td>-0.025147</td>\n",
       "      <td>-0.018921</td>\n",
       "      <td>1.6</td>\n",
       "    </tr>\n",
       "    <tr>\n",
       "      <th>...</th>\n",
       "      <td>...</td>\n",
       "      <td>...</td>\n",
       "      <td>...</td>\n",
       "      <td>...</td>\n",
       "      <td>...</td>\n",
       "    </tr>\n",
       "    <tr>\n",
       "      <th>655335</th>\n",
       "      <td>0.031250</td>\n",
       "      <td>-0.023560</td>\n",
       "      <td>-0.025513</td>\n",
       "      <td>-0.019043</td>\n",
       "      <td>262134.0</td>\n",
       "    </tr>\n",
       "    <tr>\n",
       "      <th>655336</th>\n",
       "      <td>0.075319</td>\n",
       "      <td>-0.023560</td>\n",
       "      <td>-0.025269</td>\n",
       "      <td>-0.018921</td>\n",
       "      <td>262134.4</td>\n",
       "    </tr>\n",
       "    <tr>\n",
       "      <th>655337</th>\n",
       "      <td>0.074464</td>\n",
       "      <td>-0.024048</td>\n",
       "      <td>-0.025269</td>\n",
       "      <td>-0.018921</td>\n",
       "      <td>262134.8</td>\n",
       "    </tr>\n",
       "    <tr>\n",
       "      <th>655338</th>\n",
       "      <td>0.029419</td>\n",
       "      <td>-0.023804</td>\n",
       "      <td>-0.025391</td>\n",
       "      <td>-0.019165</td>\n",
       "      <td>262135.2</td>\n",
       "    </tr>\n",
       "    <tr>\n",
       "      <th>655339</th>\n",
       "      <td>-0.039307</td>\n",
       "      <td>-0.023926</td>\n",
       "      <td>-0.025391</td>\n",
       "      <td>-0.019287</td>\n",
       "      <td>262135.6</td>\n",
       "    </tr>\n",
       "  </tbody>\n",
       "</table>\n",
       "<p>655340 rows × 5 columns</p>\n",
       "</div>"
      ],
      "text/plain": [
       "               0         1         2         3   time_us\n",
       "0       0.010620 -0.023682 -0.025269 -0.018799       0.0\n",
       "1       0.052247 -0.023682 -0.025391 -0.019165       0.4\n",
       "2       0.077150 -0.023926 -0.025757 -0.018921       0.8\n",
       "3       0.079225 -0.023804 -0.025269 -0.018799       1.2\n",
       "4       0.057740 -0.023926 -0.025147 -0.018921       1.6\n",
       "...          ...       ...       ...       ...       ...\n",
       "655335  0.031250 -0.023560 -0.025513 -0.019043  262134.0\n",
       "655336  0.075319 -0.023560 -0.025269 -0.018921  262134.4\n",
       "655337  0.074464 -0.024048 -0.025269 -0.018921  262134.8\n",
       "655338  0.029419 -0.023804 -0.025391 -0.019165  262135.2\n",
       "655339 -0.039307 -0.023926 -0.025391 -0.019287  262135.6\n",
       "\n",
       "[655340 rows x 5 columns]"
      ]
     },
     "execution_count": 173,
     "metadata": {},
     "output_type": "execute_result"
    }
   ],
   "source": [
    "data"
   ]
  },
  {
   "cell_type": "code",
   "execution_count": 181,
   "id": "f0d1c76b",
   "metadata": {},
   "outputs": [
    {
     "data": {
      "text/plain": [
       "0              0.0\n",
       "1              0.4\n",
       "2              0.8\n",
       "3              1.2\n",
       "4              1.6\n",
       "            ...   \n",
       "655335    262134.0\n",
       "655336    262134.4\n",
       "655337    262134.8\n",
       "655338    262135.2\n",
       "655339    262135.6\n",
       "Name: time_us, Length: 655340, dtype: float64"
      ]
     },
     "execution_count": 181,
     "metadata": {},
     "output_type": "execute_result"
    }
   ],
   "source": [
    "data_time=data.time_us\n",
    "data_time"
   ]
  },
  {
   "cell_type": "code",
   "execution_count": 164,
   "id": "7a963dfa",
   "metadata": {},
   "outputs": [],
   "source": [
    "sample_freq = 2.5  #MHz\n",
    "data['time_us']= 1/sample_freq*data.index #us"
   ]
  },
  {
   "cell_type": "code",
   "execution_count": 172,
   "id": "4b368e66",
   "metadata": {},
   "outputs": [
    {
     "data": {
      "image/png": "[encoded data removed]",
      "text/plain": [
       "<Figure size 1080x360 with 1 Axes>"
      ]
     },
     "metadata": {
      "needs_background": "light"
     },
     "output_type": "display_data"
    }
   ],
   "source": [
    "start=0#len(data[0])-300\n",
    "end=len(data[0])\n",
    "plt.figure(figsize=(15,5))\n",
    "plt.title(\"Sampling frequency= \"+str(sample_freq)+\" MHz\",size=20)\n",
    "\n",
    "plt.plot(data['time_us'][start:end],data[0][start:end],label='channel 1',marker='.',linestyle='none')\n",
    "#plt.plot(data['time_us'],data[1],label='channel 2',marker='.',linestyle='none')\n",
    "#plt.plot(data['time_us'],data[2],label='channel 3',marker='.',linestyle='none')\n",
    "#plt.plot(data['time_us'],data[3],label='channel 4',marker='.',linestyle='none')\n",
    "\n",
    "plt.ylabel('Volts (V)',size=15)\n",
    "plt.xlabel('time [us]',size=15)\n",
    "\n",
    "fit_result= fit_sin(data['time_us'],data[0])\n",
    "sin_func=fit_result['fitfunc']\n",
    "\n",
    "plt.plot(data['time_us'][start:end],sin_func(data['time_us'][start:end]), label='fitted frequency and Amplitude=%.3f kHz, %.3f V'%(fit_result['freq']*1000,fit_result['amp']))\n",
    "plt.legend(fontsize=12, loc='best')\n",
    "\n",
    "plt.show()"
   ]
  },
  {
   "cell_type": "code",
   "execution_count": 170,
   "id": "31ced0d3",
   "metadata": {},
   "outputs": [],
   "source": [
    "#number of peaks found vs expected\n",
    "import scipy.signal\n",
    "peaks=scipy.signal.find_peaks(sin_func(data['time_us'][start:end]))\n",
    "number_found=len(peaks[0])\n",
    "#print(peaks,number_found)"
   ]
  },
  {
   "cell_type": "code",
   "execution_count": 171,
   "id": "d3427685",
   "metadata": {},
   "outputs": [
    {
     "name": "stdout",
     "output_type": "stream",
     "text": [
      "71720\n",
      "71687\n"
     ]
    }
   ],
   "source": [
    "input_freq=273600 #Hz or cycles per sec\n",
    "sampling_points=np.shape(channels)[0] #per channel\n",
    "sampling_freq=2500000#clock rate in LabView FPGA\n",
    "number_expected=int(sampling_points*input_freq/sampling_freq)\n",
    "print(number_expected)\n",
    "cycles_lost=abs(number_expected-number_found)\n",
    "print(cycles_lost)"
   ]
  },
  {
   "cell_type": "code",
   "execution_count": 168,
   "id": "3e1e8b70",
   "metadata": {},
   "outputs": [
    {
     "name": "stdout",
     "output_type": "stream",
     "text": [
      "9.137426900584796\n"
     ]
    }
   ],
   "source": [
    "#points lost in the acquiring process: each cycle takes 1/freq seconds to happen, and we take sampling_rate data points per second\n",
    "points_lost=cycles_lost*sampling_freq/input_freq\n",
    "print(points_lost)"
   ]
  },
  {
   "cell_type": "code",
   "execution_count": null,
   "id": "ffaf5e7c",
   "metadata": {},
   "outputs": [],
   "source": []
  }
 ],
 "metadata": {
  "kernelspec": {
   "display_name": "Python 3",
   "language": "python",
   "name": "python3"
  },
  "language_info": {
   "codemirror_mode": {
    "name": "ipython",
    "version": 3
   },
   "file_extension": ".py",
   "mimetype": "text/x-python",
   "name": "python",
   "nbconvert_exporter": "python",
   "pygments_lexer": "ipython3",
   "version": "3.8.8"
  }
 },
 "nbformat": 4,
 "nbformat_minor": 5
}
