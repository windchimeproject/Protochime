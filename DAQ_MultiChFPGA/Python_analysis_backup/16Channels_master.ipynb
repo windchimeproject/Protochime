{
 "cells": [
  {
   "cell_type": "code",
   "execution_count": 16,
   "metadata": {
    "collapsed": true
   },
   "outputs": [],
   "source": [
    "#Shengchao, Juan \n",
    "#Apr.2021\n",
    "#v1.1\n",
    "#\n",
    "#Edited by Aidan, added multiple iterations\n",
    "#Jun.2021\n",
    "#July, new version, Juan, adding multiple iterations in multiple channels, cleaning  and optimizing the code\n",
    "\n",
    "\n",
    "import numpy as np\n",
    "import pandas as pd\n",
    "import scipy\n",
    "import scipy.stats\n",
    "import scipy.optimize as op\n",
    "from scipy.optimize import curve_fit\n",
    "import os\n",
    "from scipy.integrate import quad \n",
    "import datetime\n",
    "\n",
    "import matplotlib\n",
    "import matplotlib.pyplot as plt\n",
    "import matplotlib.image as mpimg\n",
    "from matplotlib.colors import LogNorm\n",
    "#from multihist import Histdd\n",
    "\n",
    "\n",
    "import time\n",
    "import sys\n",
    "import tqdm\n",
    "\n",
    "import math\n",
    "import random\n",
    "import numba\n",
    "\n",
    "from scipy.stats import norm\n",
    "\n",
    "import struct"
   ]
  },
  {
   "cell_type": "code",
   "execution_count": 5,
   "metadata": {
    "collapsed": false
   },
   "outputs": [],
   "source": [
    "from nptdms import TdmsFile"
   ]
  },
  {
   "cell_type": "code",
   "execution_count": 66,
   "metadata": {
    "collapsed": true
   },
   "outputs": [],
   "source": [
    "import numpy, scipy.optimize\n",
    "\n",
    "def fit_sin(tt, yy):\n",
    "    '''Fit sin to the input time sequence, and return fitting parameters \"amp\", \"omega\", \"phase\", \"offset\", \"freq\", \"period\" and \"fitfunc\"'''\n",
    "    tt = numpy.array(tt)\n",
    "    yy = numpy.array(yy)\n",
    "    ff = numpy.fft.fftfreq(len(tt), (tt[1]-tt[0]))   # assume uniform spacing\n",
    "    Fyy = abs(numpy.fft.fft(yy))\n",
    "    guess_freq = abs(ff[numpy.argmax(Fyy[1:])+1])   # excluding the zero frequency \"peak\", which is related to offset\n",
    "    guess_amp = numpy.std(yy) * 2.**0.5\n",
    "    guess_offset = numpy.mean(yy)\n",
    "    guess = numpy.array([guess_amp, 2.*numpy.pi*guess_freq, 0., guess_offset])\n",
    "\n",
    "    def sinfunc(t, A, w, p, c):  return A * numpy.sin(w*t + p) + c\n",
    "    popt, pcov = scipy.optimize.curve_fit(sinfunc, tt, yy, p0=guess)\n",
    "    A, w, p, c = popt\n",
    "    f = w/(2.*numpy.pi)\n",
    "    fitfunc = lambda t: A * numpy.sin(w*t + p) + c\n",
    "    return {\"amp\": A, \"omega\": w, \"phase\": p, \"offset\": c, \"freq\": f, \"period\": 1./f, \"fitfunc\": fitfunc, \"maxcov\": numpy.max(pcov), \"rawres\": (guess,popt,pcov)}"
   ]
  },
  {
   "cell_type": "code",
   "execution_count": 183,
   "metadata": {
    "collapsed": false
   },
   "outputs": [],
   "source": [
    "#read file for multiple channels\n",
    "channels=16\n",
    "dmafiforeq=1024 #requested number of elements of the dma fifo in the PC code, set to 2xDMA FIFO depth\n",
    "iterations=12 #number of iterations of the PC code\n",
    "iter_per_file=2"
   ]
  },
  {
   "cell_type": "code",
   "execution_count": 181,
   "metadata": {
    "collapsed": false
   },
   "outputs": [
    {
     "name": "stdout",
     "output_type": "stream",
     "text": [
      "/project/darkmatters/WINDCHIME/Protochime_data/binaryData/4.dat\n",
      "/project/darkmatters/WINDCHIME/Protochime_data/binaryData/5.dat\n",
      "/project/darkmatters/WINDCHIME/Protochime_data/binaryData/6.dat\n",
      "/project/darkmatters/WINDCHIME/Protochime_data/binaryData/7.dat\n",
      "/project/darkmatters/WINDCHIME/Protochime_data/binaryData/8.dat\n",
      "/project/darkmatters/WINDCHIME/Protochime_data/binaryData/9.dat\n",
      "196608\n"
     ]
    }
   ],
   "source": [
    "# assign directory\n",
    "directory = '/project/darkmatters/WINDCHIME/Protochime_data/binaryData'\n",
    " \n",
    "# iterate over files in\n",
    "# that directory\n",
    "# data_raw.shape = (#number of elements,), type(data_raw)= numpy.ndarray\n",
    "\n",
    "data_raw=np.array([])\n",
    "for filename in sorted(os.listdir(directory),key=lambda item: (int(item.partition('.')[0])\n",
    "                               if item[0].isdigit() else float('inf'), item)):\n",
    "    fileName = os.path.join(directory, filename)\n",
    "    # checking if it is a file\n",
    "    if filename.endswith(\".dat\"):\n",
    "        print(fileName)\n",
    "        data_raw_chunck = np.fromfile(fileName, dtype=\"<i2\") #> for big endian, < for little, i2 for signed integer of 2 bytes=16 bits\n",
    "        data_raw_chunck = data_raw_chunck[2:]\n",
    "        data_raw=np.append(data_raw,data_raw_chunck)\n",
    "\n",
    "print(len(data_raw))"
   ]
  },
  {
   "cell_type": "code",
   "execution_count": 166,
   "metadata": {
    "collapsed": false
   },
   "outputs": [
    {
     "name": "stdout",
     "output_type": "stream",
     "text": [
      "expected 16384 and received 196608 data do not match\n"
     ]
    }
   ],
   "source": [
    "if len(data_raw)!=(dmafiforeq*channels)*iterations:\n",
    "    print('expected {} and received {} data do not match'.format((dmafiforeq*channels)*iterations,len(data_raw)))\n",
    "#deleting headers: there is a 4 entry header {channels,0,dmafiforeq,0} at the beginning of every subarray in labview, which has dmafiforeq*channels columns\n",
    "#also, it goes in reverse so it doesnt change the header indexes to be deleted, if it wasnt reversed, the index n would be the\n",
    "#index n-4 after 1 complete iteration of the cycle\n",
    "\n",
    "\n",
    "#double checking\n",
    "if len(data_raw)%iterations!=0:\n",
    "    print('warning: each iteration does not have the correct requested number of elements')\n",
    "\n",
    "if iterations*channels*dmafiforeq==len(data_raw):\n",
    "    print('the total number of elements {} is as expected'.format(len(data_raw)))\n",
    "    print('Done!')\n"
   ]
  },
  {
   "cell_type": "code",
   "execution_count": 185,
   "metadata": {
    "collapsed": false
   },
   "outputs": [
    {
     "data": {
      "image/png": "[encoded data removed]",
      "text/plain": [
       "<Figure size 432x288 with 1 Axes>"
      ]
     },
     "metadata": {
      "needs_background": "light"
     },
     "output_type": "display_data"
    }
   ],
   "source": [
    "i=0\n",
    "plt.plot(data_raw[16384*i:16384*(i+1)])\n",
    "plt.show()"
   ]
  },
  {
   "cell_type": "code",
   "execution_count": 198,
   "metadata": {
    "collapsed": false
   },
   "outputs": [
    {
     "name": "stdout",
     "output_type": "stream",
     "text": [
      "(12288, 16)\n"
     ]
    }
   ],
   "source": [
    "iter_matrix=np.reshape(data_raw,(iterations,dmafiforeq*channels))\n",
    "\n",
    "\n",
    "#creating one array per channel: first iterations*dmafiforeq elements in each row corresponds to channel x, x from 0 to channels\n",
    "\n",
    "\n",
    "temp0=np.reshape(iter_matrix[:,0:dmafiforeq],(1,dmafiforeq*iterations))\n",
    "temp1=np.reshape(iter_matrix[:,dmafiforeq:2*dmafiforeq],(1,dmafiforeq*iterations))\n",
    "temp2=np.reshape(iter_matrix[:,2*dmafiforeq:3*dmafiforeq],(1,dmafiforeq*iterations))\n",
    "temp3=np.reshape(iter_matrix[:,3*dmafiforeq:4*dmafiforeq],(1,dmafiforeq*iterations))\n",
    "temp4=np.reshape(iter_matrix[:,4*dmafiforeq:5*dmafiforeq],(1,dmafiforeq*iterations))\n",
    "temp5=np.reshape(iter_matrix[:,5*dmafiforeq:6*dmafiforeq],(1,dmafiforeq*iterations))\n",
    "temp6=np.reshape(iter_matrix[:,6*dmafiforeq:7*dmafiforeq],(1,dmafiforeq*iterations))\n",
    "temp7=np.reshape(iter_matrix[:,7*dmafiforeq:8*dmafiforeq],(1,dmafiforeq*iterations))\n",
    "temp8=np.reshape(iter_matrix[:,8*dmafiforeq:9*dmafiforeq],(1,dmafiforeq*iterations))\n",
    "temp9=np.reshape(iter_matrix[:,9*dmafiforeq:10*dmafiforeq],(1,dmafiforeq*iterations))\n",
    "temp10=np.reshape(iter_matrix[:,10*dmafiforeq:11*dmafiforeq],(1,dmafiforeq*iterations))\n",
    "temp11=np.reshape(iter_matrix[:,11*dmafiforeq:12*dmafiforeq],(1,dmafiforeq*iterations))\n",
    "temp12=np.reshape(iter_matrix[:,12*dmafiforeq:13*dmafiforeq],(1,dmafiforeq*iterations))\n",
    "temp13=np.reshape(iter_matrix[:,13*dmafiforeq:14*dmafiforeq],(1,dmafiforeq*iterations))\n",
    "temp14=np.reshape(iter_matrix[:,14*dmafiforeq:15*dmafiforeq],(1,dmafiforeq*iterations))\n",
    "temp15=np.reshape(iter_matrix[:,15*dmafiforeq:16*dmafiforeq],(1,dmafiforeq*iterations))\n",
    "\n",
    "\n",
    "channels_arr=np.transpose(np.array([temp0[0],temp1[0],temp2[0],temp3[0],temp4[0],temp5[0],temp6[0],temp7[0],temp8[0],temp9[0],temp10[0],temp11[0],temp12[0],temp13[0],temp14[0],temp15[0]])) #1 channel per column\n",
    "print(np.shape(channels_arr))\n",
    "\n",
    "data=pd.DataFrame(channels_arr, columns=None) #channel 1 is labeled as 0, channel n is labeled as n-1"
   ]
  },
  {
   "cell_type": "code",
   "execution_count": 199,
   "metadata": {
    "collapsed": true
   },
   "outputs": [],
   "source": [
    "sample_freq = 1  #MHz\n",
    "data['time_ms']= 1e-3/sample_freq*data.index #ms"
   ]
  },
  {
   "cell_type": "code",
   "execution_count": null,
   "metadata": {
    "collapsed": false
   },
   "outputs": [],
   "source": [
    "\"\"\"\n",
    "np.save('DAQ_ADC_Cable_board_nocase_sine_0',data[0])\n",
    "np.save('DAQ_ADC_Cable_board_nocase_sine_1',data[1])\n",
    "np.save('DAQ_ADC_Cable_board_nocase_sine_2',data[2])\n",
    "np.save('DAQ_ADC_Cable_board_nocase_sine_3',data[3])\n",
    "np.save('DAQ_ADC_Cable_board_nocase_sine_4',data[4])\n",
    "np.save('DAQ_ADC_Cable_board_nocase_sine_5',data[5])\n",
    "np.save('DAQ_ADC_Cable_board_nocase_sine_6',data[6])\n",
    "np.save('DAQ_ADC_Cable_board_nocase_sine_7',data[7])\n",
    "\"\"\"\n",
    "\n",
    "\"\"\"\n",
    "np.save('DAQ_ADC_Cable_board_nocase_sine_8',data[0])\n",
    "np.save('DAQ_ADC_Cable_board_nocase_sine_9',data[1])\n",
    "np.save('DAQ_ADC_Cable_board_nocase_sine_10',data[2])\n",
    "np.save('DAQ_ADC_Cable_board_nocase_sine_11',data[3])\n",
    "np.save('DAQ_ADC_Cable_board_nocase_sine_12',data[4])\n",
    "np.save('DAQ_ADC_Cable_board_nocase_sine_13',data[5])\n",
    "np.save('DAQ_ADC_Cable_board_nocase_sine_14',data[6])\n",
    "np.save('DAQ_ADC_Cable_board_nocase_sine_15',data[7])\n",
    "\"\"\"\n",
    "\n",
    "\n",
    "\"\"\"\n",
    "np.save('DAQ_ADC_Cable_board_opencase_sine_0',data[0])\n",
    "np.save('DAQ_ADC_Cable_board_opencase_sine_1',data[1])\n",
    "np.save('DAQ_ADC_Cable_board_opencase_sine_2',data[2])\n",
    "np.save('DAQ_ADC_Cable_board_opencase_sine_3',data[3])\n",
    "np.save('DAQ_ADC_Cable_board_opencase_sine_4',data[4])\n",
    "np.save('DAQ_ADC_Cable_board_opencase_sine_5',data[5])\n",
    "np.save('DAQ_ADC_Cable_board_opencase_sine_6',data[6])\n",
    "np.save('DAQ_ADC_Cable_board_opencase_sine_7',data[7])\n",
    "\"\"\"\n",
    "\n",
    "\"\"\"\n",
    "np.save('DAQ_ADC_Cable_board_opencase_sine_8',data[0])\n",
    "np.save('DAQ_ADC_Cable_board_opencase_sine_9',data[1])\n",
    "np.save('DAQ_ADC_Cable_board_opencase_sine_10',data[2])\n",
    "np.save('DAQ_ADC_Cable_board_opencase_sine_11',data[3])\n",
    "np.save('DAQ_ADC_Cable_board_opencase_sine_12',data[4])\n",
    "np.save('DAQ_ADC_Cable_board_opencase_sine_13',data[5])\n",
    "np.save('DAQ_ADC_Cable_board_opencase_sine_14',data[6])\n",
    "np.save('DAQ_ADC_Cable_board_opencase_sine_15',data[7])\n",
    "\"\"\"\n",
    "\n",
    "\"\"\"\n",
    "np.save('DAQ_ADC_Cable_board_opencase_8',data[0])\n",
    "np.save('DAQ_ADC_Cable_board_opencase_9',data[1])\n",
    "np.save('DAQ_ADC_Cable_board_opencase_10',data[2])\n",
    "np.save('DAQ_ADC_Cable_board_opencase_11',data[3])\n",
    "np.save('DAQ_ADC_Cable_board_opencase_12',data[4])\n",
    "np.save('DAQ_ADC_Cable_board_opencase_13',data[5])\n",
    "np.save('DAQ_ADC_Cable_board_opencase_14',data[6])\n",
    "np.save('DAQ_ADC_Cable_board_opencase_15',data[7])\n",
    "\"\"\"\n",
    "\n",
    "\"\"\"\n",
    "np.save('DAQ_ADC_Cable_board_nocase_0',data[0])\n",
    "np.save('DAQ_ADC_Cable_board_nocase_1',data[1])\n",
    "np.save('DAQ_ADC_Cable_board_nocase_2',data[2])\n",
    "np.save('DAQ_ADC_Cable_board_nocase_3',data[3])\n",
    "np.save('DAQ_ADC_Cable_board_nocase_4',data[4])\n",
    "np.save('DAQ_ADC_Cable_board_nocase_5',data[5])\n",
    "np.save('DAQ_ADC_Cable_board_nocase_6',data[6])\n",
    "np.save('DAQ_ADC_Cable_board_nocase_7',data[7])\n",
    "\"\"\"\n",
    "\n",
    "\"\"\"\n",
    "np.save('DAQ_ADC_Cable_board_nocase_8',data[0])\n",
    "np.save('DAQ_ADC_Cable_board_nocase_9',data[1])\n",
    "np.save('DAQ_ADC_Cable_board_nocase_10',data[2])\n",
    "np.save('DAQ_ADC_Cable_board_nocase_11',data[3])\n",
    "np.save('DAQ_ADC_Cable_board_nocase_12',data[4])\n",
    "np.save('DAQ_ADC_Cable_board_nocase_13',data[5])\n",
    "np.save('DAQ_ADC_Cable_board_nocase_14',data[6])\n",
    "np.save('DAQ_ADC_Cable_board_nocase_15',data[7])\n",
    "\"\"\"\n",
    "\n",
    "\"\"\"\n",
    "np.save('DAQ_ADC_Cable_0',data[0])\n",
    "np.save('DAQ_ADC_Cable_1',data[1])\n",
    "np.save('DAQ_ADC_Cable_2',data[2])\n",
    "np.save('DAQ_ADC_Cable_3',data[3])\n",
    "np.save('DAQ_ADC_Cable_4',data[4])\n",
    "np.save('DAQ_ADC_Cable_5',data[5])\n",
    "np.save('DAQ_ADC_Cable_6',data[6])\n",
    "np.save('DAQ_ADC_Cable_7',data[7])\n",
    "\"\"\"\n",
    "\n",
    "\"\"\"\n",
    "np.save('DAQ_ADC_Cable_8',data[0])\n",
    "np.save('DAQ_ADC_Cable_9',data[1])\n",
    "np.save('DAQ_ADC_Cable_10',data[2])\n",
    "np.save('DAQ_ADC_Cable_11',data[3])\n",
    "np.save('DAQ_ADC_Cable_12',data[4])\n",
    "np.save('DAQ_ADC_Cable_13',data[5])\n",
    "np.save('DAQ_ADC_Cable_14',data[6])\n",
    "np.save('DAQ_ADC_Cable_15',data[7])\n",
    "\"\"\""
   ]
  },
  {
   "cell_type": "code",
   "execution_count": 204,
   "metadata": {
    "collapsed": false
   },
   "outputs": [
    {
     "data": {
      "image/png": "[encoded data removed]",
      "text/plain": [
       "<Figure size 1080x360 with 1 Axes>"
      ]
     },
     "metadata": {
      "needs_background": "light"
     },
     "output_type": "display_data"
    }
   ],
   "source": [
    "select_channel=data[0]\n",
    "\n",
    "start=len(select_channel)-600\n",
    "end=len(select_channel)\n",
    "#print(select_channel[start:end])\n",
    "plt.figure(figsize=(15,5))\n",
    "plt.title(\"Sampling frequency= \"+str(sample_freq)+\" MHz\",size=20)\n",
    "\n",
    "plt.plot(data['time_ms'][start:end],select_channel[start:end],label='channel 1',marker='.',linestyle='none')\n",
    "#plt.plot(data['time_us'],data[1],label='channel 2',marker='.',linestyle='none')\n",
    "#plt.plot(data['time_us'],data[2],label='channel 3',marker='.',linestyle='none')\n",
    "#plt.plot(data['time_us'],data[3],label='channel 4',marker='.',linestyle='none')\n",
    "\n",
    "plt.ylabel('Volts (V)',size=15)\n",
    "plt.xlabel('time [ms]',size=15)\n",
    "\n",
    "fit_result= fit_sin(data['time_ms'][start:end],select_channel[start:end])\n",
    "sin_func=fit_result['fitfunc']\n",
    "\n",
    "plt.plot(data['time_ms'][start:end],sin_func(data['time_ms'][start:end]), label='fitted frequency and Amplitude=%.3f kHz, %.3f V'%(fit_result['freq']*1000,fit_result['amp']))\n",
    "plt.legend(fontsize=12, loc='best')\n",
    "#plt.ylim([-30000,30000])\n",
    "plt.show()"
   ]
  },
  {
   "cell_type": "code",
   "execution_count": null,
   "metadata": {
    "collapsed": false
   },
   "outputs": [],
   "source": [
    "start=0#len(data[0])-60000\n",
    "end=len(data[7])\n",
    "#print(data[0][start:end])\n",
    "plt.figure(figsize=(15,5))\n",
    "plt.title(\"Sampling frequency= \"+str(sample_freq)+\" MHz\",size=20)\n",
    "\n",
    "plt.plot(data['time_ms'][start:end],data[0][start:end],label='channel 1',marker='.',linestyle='none')\n",
    "#plt.plot(data['time_us'],data[1],label='channel 2',marker='.',linestyle='none')\n",
    "#plt.plot(data['time_us'],data[2],label='channel 3',marker='.',linestyle='none')\n",
    "#plt.plot(data['time_us'],data[3],label='channel 4',marker='.',linestyle='none')\n",
    "\n",
    "plt.ylabel('Volts (V)',size=15)\n",
    "plt.xlabel('time [ms]',size=15)\n",
    "\n",
    "#fit_result= fit_sin(data['time_ms'][start:end],data[0][start:end])\n",
    "#sin_func=fit_result['fitfunc']\n",
    "\n",
    "#plt.plot(data['time_ms'][start:end],sin_func(data['time_ms'][start:end]), label='fitted frequency and Amplitude=%.3f kHz, %.3f V'%(fit_result['freq']*1000,fit_result['amp']))\n",
    "plt.legend(fontsize=12, loc='best')\n",
    "#plt.ylim([-30000,30000])\n",
    "plt.show()"
   ]
  },
  {
   "cell_type": "code",
   "execution_count": null,
   "metadata": {
    "collapsed": false
   },
   "outputs": [],
   "source": [
    "start=len(data[0])-600\n",
    "end=len(data[0])\n",
    "#print(data[0][start:end])\n",
    "plt.figure(figsize=(15,5))\n",
    "plt.title(\"Sampling frequency= \"+str(sample_freq)+\" MHz\",size=20)\n",
    "\n",
    "plt.plot(data['time_ms'][start:end],data[0][start:end],label='channel 1',marker='.',linestyle='none')\n",
    "#plt.plot(data['time_us'],data[1],label='channel 2',marker='.',linestyle='none')\n",
    "#plt.plot(data['time_us'],data[2],label='channel 3',marker='.',linestyle='none')\n",
    "#plt.plot(data['time_us'],data[3],label='channel 4',marker='.',linestyle='none')\n",
    "\n",
    "plt.ylabel('Volts (V)',size=15)\n",
    "plt.xlabel('time [ms]',size=15)\n",
    "\n",
    "fit_result= fit_sin(data['time_ms'][start:end],data[0][start:end])\n",
    "sin_func=fit_result['fitfunc']\n",
    "\n",
    "plt.plot(data['time_ms'][start:end],sin_func(data['time_ms'][start:end]), label='fitted f and A =%.3f kHz, %.3f V'%(fit_result['freq']*1000,fit_result['amp']))\n",
    "plt.legend(fontsize=12, loc='best')\n",
    "#plt.ylim([-30000,30000])\n",
    "plt.show()"
   ]
  },
  {
   "cell_type": "code",
   "execution_count": null,
   "metadata": {
    "collapsed": false
   },
   "outputs": [],
   "source": [
    "#number of peaks found vs expected\n",
    "start=0\n",
    "end=len(data[0])\n",
    "fit_result= fit_sin(data['time_us'][start:end],data[0][start:end])\n",
    "sin_func=fit_result['fitfunc']\n",
    "import scipy.signal\n",
    "peaks=scipy.signal.find_peaks(sin_func(data['time_us'][start:end]))\n",
    "number_found=len(peaks[0])\n",
    "#print(peaks,number_found)"
   ]
  },
  {
   "cell_type": "code",
   "execution_count": null,
   "metadata": {
    "collapsed": false
   },
   "outputs": [],
   "source": [
    "input_freq=30101.5 #Hz or cycles per sec\n",
    "sampling_points=np.shape(channels)[0] #per channel\n",
    "sampling_freq=2500000#clock rate in LabView FPGA\n",
    "number_expected=sampling_points*input_freq/sampling_freq\n",
    "print(number_expected)\n",
    "cycles_lost=abs(number_expected-number_found)\n",
    "print(cycles_lost)"
   ]
  },
  {
   "cell_type": "code",
   "execution_count": null,
   "metadata": {
    "collapsed": false
   },
   "outputs": [],
   "source": [
    "#points lost in the acquiring process: each cycle takes 1/freq seconds to happen, and we take sampling_rate data points per second\n",
    "points_lost=cycles_lost*sampling_freq/input_freq\n",
    "print(points_lost)"
   ]
  },
  {
   "cell_type": "code",
   "execution_count": null,
   "metadata": {
    "collapsed": true
   },
   "outputs": [],
   "source": [
    "#first peak\n",
    "first_pk=peaks[0][0]\n",
    "last_pk=peaks[0][-1]\n",
    "points_between=last_pk-first_pk\n"
   ]
  },
  {
   "cell_type": "code",
   "execution_count": null,
   "metadata": {
    "collapsed": false
   },
   "outputs": [],
   "source": [
    "plt.hist(x = data[0][100000:], bins = 100, log = True)"
   ]
  },
  {
   "cell_type": "code",
   "execution_count": null,
   "metadata": {
    "collapsed": false
   },
   "outputs": [],
   "source": [
    "a = [1,2,3,2]\n",
    "for f in a:\n",
    "    print(a.index(f))"
   ]
  },
  {
   "cell_type": "code",
   "execution_count": null,
   "metadata": {
    "collapsed": false
   },
   "outputs": [],
   "source": [
    "print(2**13)"
   ]
  },
  {
   "cell_type": "code",
   "execution_count": null,
   "metadata": {
    "collapsed": true
   },
   "outputs": [],
   "source": []
  }
 ],
 "metadata": {
  "kernelspec": {
   "display_name": "AnaconDark Kernel",
   "language": "python",
   "name": "anacondark"
  },
  "language_info": {
   "codemirror_mode": {
    "name": "ipython",
    "version": 3
   },
   "file_extension": ".py",
   "mimetype": "text/x-python",
   "name": "python",
   "nbconvert_exporter": "python",
   "pygments_lexer": "ipython3",
   "version": "3.8.2"
  }
 },
 "nbformat": 4,
 "nbformat_minor": 5
}
