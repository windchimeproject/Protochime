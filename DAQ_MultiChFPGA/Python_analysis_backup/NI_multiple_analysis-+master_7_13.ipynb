{
 "cells": [
  {
   "cell_type": "code",
   "execution_count": 1,
   "metadata": {
    "collapsed": true
   },
   "outputs": [],
   "source": [
    "#Shengchao, Juan \n",
    "#Apr.2021\n",
    "#v1.1\n",
    "#\n",
    "#Edited by Aidan, added multiple iterations\n",
    "#Jun.2021\n",
    "#July 15, new version, Juan, adding multiple iterations in multiple channels, cleaning the code\n",
    "\n",
    "\n",
    "import numpy as np\n",
    "import pandas as pd\n",
    "import scipy\n",
    "import scipy.stats\n",
    "import scipy.optimize as op\n",
    "from scipy.optimize import curve_fit\n",
    "import os\n",
    "from scipy.integrate import quad \n",
    "import datetime\n",
    "\n",
    "import matplotlib\n",
    "import matplotlib.pyplot as plt\n",
    "import matplotlib.image as mpimg\n",
    "from matplotlib.colors import LogNorm\n",
    "#from multihist import Histdd\n",
    "\n",
    "\n",
    "import time\n",
    "import sys\n",
    "import tqdm\n",
    "\n",
    "import math\n",
    "import random\n",
    "import numba\n",
    "\n",
    "from scipy.stats import norm\n",
    "\n",
    "import struct"
   ]
  },
  {
   "cell_type": "code",
   "execution_count": 2,
   "metadata": {
    "collapsed": true
   },
   "outputs": [],
   "source": [
    "import numpy, scipy.optimize\n",
    "\n",
    "def fit_sin(tt, yy):\n",
    "    '''Fit sin to the input time sequence, and return fitting parameters \"amp\", \"omega\", \"phase\", \"offset\", \"freq\", \"period\" and \"fitfunc\"'''\n",
    "    tt = numpy.array(tt)\n",
    "    yy = numpy.array(yy)\n",
    "    ff = numpy.fft.fftfreq(len(tt), (tt[1]-tt[0]))   # assume uniform spacing\n",
    "    Fyy = abs(numpy.fft.fft(yy))\n",
    "    guess_freq = abs(ff[numpy.argmax(Fyy[1:])+1])   # excluding the zero frequency \"peak\", which is related to offset\n",
    "    guess_amp = numpy.std(yy) * 2.**0.5\n",
    "    guess_offset = numpy.mean(yy)\n",
    "    guess = numpy.array([guess_amp, 2.*numpy.pi*guess_freq, 0., guess_offset])\n",
    "\n",
    "    def sinfunc(t, A, w, p, c):  return A * numpy.sin(w*t + p) + c\n",
    "    popt, pcov = scipy.optimize.curve_fit(sinfunc, tt, yy, p0=guess)\n",
    "    A, w, p, c = popt\n",
    "    f = w/(2.*numpy.pi)\n",
    "    fitfunc = lambda t: A * numpy.sin(w*t + p) + c\n",
    "    return {\"amp\": A, \"omega\": w, \"phase\": p, \"offset\": c, \"freq\": f, \"period\": 1./f, \"fitfunc\": fitfunc, \"maxcov\": numpy.max(pcov), \"rawres\": (guess,popt,pcov)}"
   ]
  },
  {
   "cell_type": "code",
   "execution_count": 88,
   "metadata": {
    "collapsed": false
   },
   "outputs": [
    {
     "name": "stdout",
     "output_type": "stream",
     "text": [
      "binary file received is size 131060000\n",
      "(16382000, 8)\n"
     ]
    }
   ],
   "source": [
    "#read file for multiple channels\n",
    "channels=8\n",
    "dmafiforeq=16382 #requested number of elements of the dma fifo in the PC code, set to 2xDMA FIFO depth\n",
    "iterations=1000 #number of iterations of the PC code, if labview says x iterations, there are x+1\n",
    "fileName = '/project/darkmatters/WINDCHIME/Protochime_data/8chan.dat'\n",
    "data_raw = numpy.fromfile(fileName, dtype=\"<i2\") #> for big endian, < for little, i2 for signed integer of 2 bytes=16 bits\n",
    "print(\"binary file received is size \"+str(data_raw.shape[0]))\n",
    "#create matrix where each column is an iteration\n",
    "if data_raw.shape[0]%iterations!=0:\n",
    "    print('warning: each iteration does not have the requested number of elements')\n",
    "iter_matrix=np.reshape(data_raw,(iterations,int(data_raw.shape[0]/iterations)))\n",
    "iter_matrix=np.delete(iter_matrix,(0,1,2,3), axis=1) #deleting first 4 columns, which is the 4 value header {channels,0,dmafiforeq,0} at the beginning of an iteration \n",
    "#creating one array per channel: first 65534*(x+1) elements in each row corresponds to channel x, x from 0 to channels\n",
    "\n",
    "\n",
    "temp0=np.reshape(iter_matrix[:,0:dmafiforeq],(1,dmafiforeq*iterations))\n",
    "temp1=np.reshape(iter_matrix[:,dmafiforeq:2*dmafiforeq],(1,dmafiforeq*iterations))\n",
    "temp2=np.reshape(iter_matrix[:,2*dmafiforeq:3*dmafiforeq],(1,dmafiforeq*iterations))\n",
    "temp3=np.reshape(iter_matrix[:,3*dmafiforeq:4*dmafiforeq],(1,dmafiforeq*iterations))\n",
    "temp4=np.reshape(iter_matrix[:,4*dmafiforeq:5*dmafiforeq],(1,dmafiforeq*iterations))\n",
    "temp5=np.reshape(iter_matrix[:,5*dmafiforeq:6*dmafiforeq],(1,dmafiforeq*iterations))\n",
    "temp6=np.reshape(iter_matrix[:,6*dmafiforeq:7*dmafiforeq],(1,dmafiforeq*iterations))\n",
    "temp7=np.reshape(iter_matrix[:,7*dmafiforeq:8*dmafiforeq],(1,dmafiforeq*iterations))\n",
    "\n",
    "\n",
    "channels=np.transpose(np.array([temp0[0],temp1[0],temp2[0],temp3[0],temp4[0],temp5[0],temp6[0],temp7[0]])) #1 channel per column\n",
    "print(np.shape(channels))\n",
    "\n",
    "data=pd.DataFrame(channels, columns=None) #channel 1 is labeled as 0, channel n is labeled as n-1"
   ]
  },
  {
   "cell_type": "code",
   "execution_count": 4,
   "metadata": {
    "collapsed": false
   },
   "outputs": [
    {
     "data": {
      "text/html": [
       "<div>\n",
       "<style scoped>\n",
       "    .dataframe tbody tr th:only-of-type {\n",
       "        vertical-align: middle;\n",
       "    }\n",
       "\n",
       "    .dataframe tbody tr th {\n",
       "        vertical-align: top;\n",
       "    }\n",
       "\n",
       "    .dataframe thead th {\n",
       "        text-align: right;\n",
       "    }\n",
       "</style>\n",
       "<table border=\"1\" class=\"dataframe\">\n",
       "  <thead>\n",
       "    <tr style=\"text-align: right;\">\n",
       "      <th></th>\n",
       "      <th>0</th>\n",
       "      <th>1</th>\n",
       "      <th>2</th>\n",
       "      <th>3</th>\n",
       "    </tr>\n",
       "  </thead>\n",
       "  <tbody>\n",
       "    <tr>\n",
       "      <th>0</th>\n",
       "      <td>-0.324956</td>\n",
       "      <td>-0.023926</td>\n",
       "      <td>-0.025269</td>\n",
       "      <td>-0.019165</td>\n",
       "    </tr>\n",
       "    <tr>\n",
       "      <th>1</th>\n",
       "      <td>-0.326665</td>\n",
       "      <td>-0.023926</td>\n",
       "      <td>-0.025269</td>\n",
       "      <td>-0.019165</td>\n",
       "    </tr>\n",
       "    <tr>\n",
       "      <th>2</th>\n",
       "      <td>-0.327398</td>\n",
       "      <td>-0.023682</td>\n",
       "      <td>-0.025391</td>\n",
       "      <td>-0.019043</td>\n",
       "    </tr>\n",
       "    <tr>\n",
       "      <th>3</th>\n",
       "      <td>-0.328374</td>\n",
       "      <td>-0.023560</td>\n",
       "      <td>-0.025269</td>\n",
       "      <td>-0.019043</td>\n",
       "    </tr>\n",
       "    <tr>\n",
       "      <th>4</th>\n",
       "      <td>-0.328985</td>\n",
       "      <td>-0.024048</td>\n",
       "      <td>-0.025147</td>\n",
       "      <td>-0.018799</td>\n",
       "    </tr>\n",
       "    <tr>\n",
       "      <th>...</th>\n",
       "      <td>...</td>\n",
       "      <td>...</td>\n",
       "      <td>...</td>\n",
       "      <td>...</td>\n",
       "    </tr>\n",
       "    <tr>\n",
       "      <th>6553395</th>\n",
       "      <td>-0.183719</td>\n",
       "      <td>-0.023560</td>\n",
       "      <td>-0.025269</td>\n",
       "      <td>-0.018921</td>\n",
       "    </tr>\n",
       "    <tr>\n",
       "      <th>6553396</th>\n",
       "      <td>-0.178836</td>\n",
       "      <td>-0.023682</td>\n",
       "      <td>-0.025391</td>\n",
       "      <td>-0.019165</td>\n",
       "    </tr>\n",
       "    <tr>\n",
       "      <th>6553397</th>\n",
       "      <td>-0.173587</td>\n",
       "      <td>-0.023926</td>\n",
       "      <td>-0.025391</td>\n",
       "      <td>-0.018921</td>\n",
       "    </tr>\n",
       "    <tr>\n",
       "      <th>6553398</th>\n",
       "      <td>-0.169070</td>\n",
       "      <td>-0.023926</td>\n",
       "      <td>-0.025147</td>\n",
       "      <td>-0.019043</td>\n",
       "    </tr>\n",
       "    <tr>\n",
       "      <th>6553399</th>\n",
       "      <td>-0.165042</td>\n",
       "      <td>-0.023804</td>\n",
       "      <td>-0.025391</td>\n",
       "      <td>-0.019287</td>\n",
       "    </tr>\n",
       "  </tbody>\n",
       "</table>\n",
       "<p>6553400 rows × 4 columns</p>\n",
       "</div>"
      ],
      "text/plain": [
       "                0         1         2         3\n",
       "0       -0.324956 -0.023926 -0.025269 -0.019165\n",
       "1       -0.326665 -0.023926 -0.025269 -0.019165\n",
       "2       -0.327398 -0.023682 -0.025391 -0.019043\n",
       "3       -0.328374 -0.023560 -0.025269 -0.019043\n",
       "4       -0.328985 -0.024048 -0.025147 -0.018799\n",
       "...           ...       ...       ...       ...\n",
       "6553395 -0.183719 -0.023560 -0.025269 -0.018921\n",
       "6553396 -0.178836 -0.023682 -0.025391 -0.019165\n",
       "6553397 -0.173587 -0.023926 -0.025391 -0.018921\n",
       "6553398 -0.169070 -0.023926 -0.025147 -0.019043\n",
       "6553399 -0.165042 -0.023804 -0.025391 -0.019287\n",
       "\n",
       "[6553400 rows x 4 columns]"
      ]
     },
     "execution_count": 4,
     "metadata": {},
     "output_type": "execute_result"
    }
   ],
   "source": []
  },
  {
   "cell_type": "code",
   "execution_count": 89,
   "metadata": {
    "collapsed": true
   },
   "outputs": [],
   "source": [
    "sample_freq = 2.5  #MHz\n",
    "data['time_us']= 1/sample_freq*data.index #us"
   ]
  },
  {
   "cell_type": "code",
   "execution_count": 92,
   "metadata": {
    "collapsed": false
   },
   "outputs": [
    {
     "data": {
      "image/png": "[encoded data removed]",
      "text/plain": [
       "<Figure size 1080x360 with 1 Axes>"
      ]
     },
     "metadata": {
      "needs_background": "light"
     },
     "output_type": "display_data"
    }
   ],
   "source": [
    "start=0#len(data[0])-600\n",
    "end=len(data[0])\n",
    "plt.figure(figsize=(15,5))\n",
    "plt.title(\"Sampling frequency= \"+str(sample_freq)+\" MHz\",size=20)\n",
    "\n",
    "plt.plot(data['time_us'][start:end],data[0][start:end],label='channel 1',marker='.',linestyle='none')\n",
    "#plt.plot(data['time_us'],data[1],label='channel 2',marker='.',linestyle='none')\n",
    "#plt.plot(data['time_us'],data[2],label='channel 3',marker='.',linestyle='none')\n",
    "#plt.plot(data['time_us'],data[3],label='channel 4',marker='.',linestyle='none')\n",
    "\n",
    "plt.ylabel('Volts (V)',size=15)\n",
    "plt.xlabel('time [us]',size=15)\n",
    "\n",
    "#fit_result= fit_sin(data['time_us'],data[0])\n",
    "#sin_func=fit_result['fitfunc']\n",
    "\n",
    "#plt.plot(data['time_us'][start:end],sin_func(data['time_us'][start:end]), label='fitted frequency and Amplitude=%.3f kHz, %.3f V'%(fit_result['freq']*1000,fit_result['amp']))\n",
    "plt.legend(fontsize=12, loc='best')\n",
    "#plt.ylim([-0.5,0.01])\n",
    "plt.show()"
   ]
  },
  {
   "cell_type": "code",
   "execution_count": 25,
   "metadata": {
    "collapsed": false
   },
   "outputs": [],
   "source": [
    "#number of peaks found vs expected\n",
    "start=0\n",
    "end=len(data[0])\n",
    "fit_result= fit_sin(data['time_us'][start:end],data[0][start:end])\n",
    "sin_func=fit_result['fitfunc']\n",
    "import scipy.signal\n",
    "peaks=scipy.signal.find_peaks(sin_func(data['time_us'][start:end]))\n",
    "number_found=len(peaks[0])\n",
    "#print(peaks,number_found)"
   ]
  },
  {
   "cell_type": "code",
   "execution_count": 26,
   "metadata": {
    "collapsed": false
   },
   "outputs": [
    {
     "name": "stdout",
     "output_type": "stream",
     "text": [
      "789068.6804\n",
      "0.6803999999538064\n"
     ]
    }
   ],
   "source": [
    "input_freq=30101.5 #Hz or cycles per sec\n",
    "sampling_points=np.shape(channels)[0] #per channel\n",
    "sampling_freq=2500000#clock rate in LabView FPGA\n",
    "number_expected=sampling_points*input_freq/sampling_freq\n",
    "print(number_expected)\n",
    "cycles_lost=abs(number_expected-number_found)\n",
    "print(cycles_lost)"
   ]
  },
  {
   "cell_type": "code",
   "execution_count": 27,
   "metadata": {
    "collapsed": false
   },
   "outputs": [
    {
     "name": "stdout",
     "output_type": "stream",
     "text": [
      "56.50881184939342\n"
     ]
    }
   ],
   "source": [
    "#points lost in the acquiring process: each cycle takes 1/freq seconds to happen, and we take sampling_rate data points per second\n",
    "points_lost=cycles_lost*sampling_freq/input_freq\n",
    "print(points_lost)"
   ]
  },
  {
   "cell_type": "code",
   "execution_count": null,
   "metadata": {
    "collapsed": true
   },
   "outputs": [],
   "source": [
    "#first peak\n",
    "first_pk=peaks[0][0]\n",
    "last_pk=peaks[0][-1]\n",
    "points_between=last_pk-first_pk\n"
   ]
  },
  {
   "cell_type": "code",
   "execution_count": 29,
   "metadata": {
    "collapsed": false
   },
   "outputs": [
    {
     "data": {
      "text/plain": [
       "(array([4.252000e+03, 6.500000e+01, 1.826210e+05, 5.551646e+06,\n",
       "        2.787276e+06, 2.012738e+06, 1.769559e+06, 1.480276e+06,\n",
       "        1.422663e+06, 1.271905e+06, 1.253304e+06, 1.103824e+06,\n",
       "        1.127578e+06, 1.050117e+06, 1.075237e+06, 9.782510e+05,\n",
       "        9.404620e+05, 9.688560e+05, 8.794060e+05, 9.105160e+05,\n",
       "        8.610960e+05, 9.132830e+05, 8.615320e+05, 9.237610e+05,\n",
       "        8.677990e+05, 9.038770e+05, 8.632330e+05, 9.021740e+05,\n",
       "        8.469210e+05, 9.261360e+05, 8.641990e+05, 9.028610e+05,\n",
       "        8.563580e+05, 8.672710e+05, 9.160180e+05, 8.960900e+05,\n",
       "        9.753110e+05, 9.758630e+05, 1.053447e+06, 1.027815e+06,\n",
       "        1.078407e+06, 1.060109e+06, 1.192193e+06, 1.198456e+06,\n",
       "        1.322054e+06, 1.340101e+06, 1.562003e+06, 1.668474e+06,\n",
       "        2.117872e+06, 2.622857e+06, 5.209429e+06, 8.298600e+04,\n",
       "        1.242000e+03, 8.100000e+01, 0.000000e+00, 0.000000e+00,\n",
       "        0.000000e+00, 0.000000e+00, 0.000000e+00, 0.000000e+00,\n",
       "        0.000000e+00, 0.000000e+00, 0.000000e+00, 0.000000e+00,\n",
       "        0.000000e+00, 3.370000e+02, 0.000000e+00, 0.000000e+00,\n",
       "        0.000000e+00, 0.000000e+00, 0.000000e+00, 1.040000e+02,\n",
       "        0.000000e+00, 0.000000e+00, 0.000000e+00, 0.000000e+00,\n",
       "        0.000000e+00, 0.000000e+00, 0.000000e+00, 0.000000e+00,\n",
       "        0.000000e+00, 0.000000e+00, 0.000000e+00, 0.000000e+00,\n",
       "        0.000000e+00, 0.000000e+00, 0.000000e+00, 0.000000e+00,\n",
       "        0.000000e+00, 0.000000e+00, 0.000000e+00, 0.000000e+00,\n",
       "        0.000000e+00, 0.000000e+00, 0.000000e+00, 0.000000e+00,\n",
       "        5.540000e+02, 0.000000e+00, 0.000000e+00, 1.144000e+03]),\n",
       " array([-2.50003815e-01, -2.47504997e-01, -2.45006180e-01, -2.42507362e-01,\n",
       "        -2.40008545e-01, -2.37509728e-01, -2.35010910e-01, -2.32512093e-01,\n",
       "        -2.30013275e-01, -2.27514458e-01, -2.25015640e-01, -2.22516823e-01,\n",
       "        -2.20018006e-01, -2.17519188e-01, -2.15020371e-01, -2.12521553e-01,\n",
       "        -2.10022736e-01, -2.07523919e-01, -2.05025101e-01, -2.02526284e-01,\n",
       "        -2.00027466e-01, -1.97528649e-01, -1.95029831e-01, -1.92531014e-01,\n",
       "        -1.90032197e-01, -1.87533379e-01, -1.85034562e-01, -1.82535744e-01,\n",
       "        -1.80036927e-01, -1.77538109e-01, -1.75039292e-01, -1.72540475e-01,\n",
       "        -1.70041657e-01, -1.67542840e-01, -1.65044022e-01, -1.62545205e-01,\n",
       "        -1.60046387e-01, -1.57547570e-01, -1.55048753e-01, -1.52549935e-01,\n",
       "        -1.50051118e-01, -1.47552300e-01, -1.45053483e-01, -1.42554665e-01,\n",
       "        -1.40055848e-01, -1.37557031e-01, -1.35058213e-01, -1.32559396e-01,\n",
       "        -1.30060578e-01, -1.27561761e-01, -1.25062943e-01, -1.22564126e-01,\n",
       "        -1.20065309e-01, -1.17566491e-01, -1.15067674e-01, -1.12568856e-01,\n",
       "        -1.10070039e-01, -1.07571221e-01, -1.05072404e-01, -1.02573587e-01,\n",
       "        -1.00074769e-01, -9.75759518e-02, -9.50771344e-02, -9.25783169e-02,\n",
       "        -9.00794995e-02, -8.75806821e-02, -8.50818647e-02, -8.25830472e-02,\n",
       "        -8.00842298e-02, -7.75854124e-02, -7.50865949e-02, -7.25877775e-02,\n",
       "        -7.00889601e-02, -6.75901427e-02, -6.50913252e-02, -6.25925078e-02,\n",
       "        -6.00936904e-02, -5.75948730e-02, -5.50960555e-02, -5.25972381e-02,\n",
       "        -5.00984207e-02, -4.75996033e-02, -4.51007858e-02, -4.26019684e-02,\n",
       "        -4.01031510e-02, -3.76043336e-02, -3.51055161e-02, -3.26066987e-02,\n",
       "        -3.01078813e-02, -2.76090639e-02, -2.51102464e-02, -2.26114290e-02,\n",
       "        -2.01126116e-02, -1.76137942e-02, -1.51149767e-02, -1.26161593e-02,\n",
       "        -1.01173419e-02, -7.61852445e-03, -5.11970703e-03, -2.62088960e-03,\n",
       "        -1.22072175e-04]),\n",
       " <a list of 100 Patch objects>)"
      ]
     },
     "execution_count": 29,
     "metadata": {},
     "output_type": "execute_result"
    },
    {
     "data": {
      "image/png": "[encoded data removed]",
      "text/plain": [
       "<Figure size 432x288 with 1 Axes>"
      ]
     },
     "metadata": {
      "needs_background": "light"
     },
     "output_type": "display_data"
    }
   ],
   "source": [
    "plt.hist(x = data[0][100000:], bins = 100, log = True)"
   ]
  },
  {
   "cell_type": "code",
   "execution_count": 31,
   "metadata": {
    "collapsed": false
   },
   "outputs": [
    {
     "name": "stdout",
     "output_type": "stream",
     "text": [
      "0\n",
      "1\n",
      "2\n",
      "1\n"
     ]
    }
   ],
   "source": [
    "a = [1,2,3,2]\n",
    "for f in a:\n",
    "    print(a.index(f))"
   ]
  },
  {
   "cell_type": "code",
   "execution_count": 30,
   "metadata": {
    "collapsed": false
   },
   "outputs": [
    {
     "name": "stdout",
     "output_type": "stream",
     "text": [
      "8192\n"
     ]
    }
   ],
   "source": [
    "print(2**13)"
   ]
  },
  {
   "cell_type": "code",
   "execution_count": null,
   "metadata": {
    "collapsed": true
   },
   "outputs": [],
   "source": []
  }
 ],
 "metadata": {
  "kernelspec": {
   "display_name": "AnaconDark Kernel",
   "language": "python",
   "name": "anacondark"
  },
  "language_info": {
   "codemirror_mode": {
    "name": "ipython",
    "version": 3
   },
   "file_extension": ".py",
   "mimetype": "text/x-python",
   "name": "python",
   "nbconvert_exporter": "python",
   "pygments_lexer": "ipython3",
   "version": "3.8.2"
  }
 },
 "nbformat": 4,
 "nbformat_minor": 5
}
