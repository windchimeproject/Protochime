{
 "cells": [
  {
   "cell_type": "code",
   "execution_count": 2,
   "metadata": {
    "collapsed": true
   },
   "outputs": [],
   "source": [
    "#Shengchao, Juan \n",
    "#Apr.2021\n",
    "#v1.1\n",
    "#\n",
    "#Edited by Aidan, added multiple iterations\n",
    "#Jun.2021\n",
    "#July 15, new version, Juan, adding multiple iterations in multiple channels, cleaning the code\n",
    "\n",
    "\n",
    "import numpy as np\n",
    "import pandas as pd\n",
    "import scipy\n",
    "import scipy.stats\n",
    "import scipy.optimize as op\n",
    "from scipy.optimize import curve_fit\n",
    "import os\n",
    "from scipy.integrate import quad \n",
    "import datetime\n",
    "\n",
    "import matplotlib\n",
    "import matplotlib.pyplot as plt\n",
    "import matplotlib.image as mpimg\n",
    "from matplotlib.colors import LogNorm\n",
    "#from multihist import Histdd\n",
    "\n",
    "\n",
    "import time\n",
    "import sys\n",
    "import tqdm\n",
    "\n",
    "import math\n",
    "import random\n",
    "import numba\n",
    "\n",
    "from scipy.stats import norm\n",
    "\n",
    "import struct"
   ]
  },
  {
   "cell_type": "code",
   "execution_count": 3,
   "metadata": {
    "collapsed": true
   },
   "outputs": [],
   "source": [
    "import numpy, scipy.optimize\n",
    "\n",
    "def fit_sin(tt, yy):\n",
    "    '''Fit sin to the input time sequence, and return fitting parameters \"amp\", \"omega\", \"phase\", \"offset\", \"freq\", \"period\" and \"fitfunc\"'''\n",
    "    tt = numpy.array(tt)\n",
    "    yy = numpy.array(yy)\n",
    "    ff = numpy.fft.fftfreq(len(tt), (tt[1]-tt[0]))   # assume uniform spacing\n",
    "    Fyy = abs(numpy.fft.fft(yy))\n",
    "    guess_freq = abs(ff[numpy.argmax(Fyy[1:])+1])   # excluding the zero frequency \"peak\", which is related to offset\n",
    "    guess_amp = numpy.std(yy) * 2.**0.5\n",
    "    guess_offset = numpy.mean(yy)\n",
    "    guess = numpy.array([guess_amp, 2.*numpy.pi*guess_freq, 0., guess_offset])\n",
    "\n",
    "    def sinfunc(t, A, w, p, c):  return A * numpy.sin(w*t + p) + c\n",
    "    popt, pcov = scipy.optimize.curve_fit(sinfunc, tt, yy, p0=guess)\n",
    "    A, w, p, c = popt\n",
    "    f = w/(2.*numpy.pi)\n",
    "    fitfunc = lambda t: A * numpy.sin(w*t + p) + c\n",
    "    return {\"amp\": A, \"omega\": w, \"phase\": p, \"offset\": c, \"freq\": f, \"period\": 1./f, \"fitfunc\": fitfunc, \"maxcov\": numpy.max(pcov), \"rawres\": (guess,popt,pcov)}"
   ]
  },
  {
   "cell_type": "code",
   "execution_count": 335,
   "metadata": {
    "collapsed": false
   },
   "outputs": [
    {
     "name": "stdout",
     "output_type": "stream",
     "text": [
      "binary file received after deleting headers is size 131072000\n",
      "990\n",
      "980\n",
      "970\n",
      "960\n",
      "950\n",
      "940\n",
      "930\n",
      "920\n",
      "910\n",
      "900\n",
      "890\n",
      "880\n",
      "870\n",
      "860\n",
      "850\n",
      "840\n",
      "830\n",
      "820\n",
      "810\n",
      "800\n",
      "790\n",
      "780\n",
      "770\n",
      "760\n",
      "750\n",
      "740\n",
      "730\n",
      "720\n",
      "710\n",
      "700\n",
      "690\n",
      "680\n",
      "670\n",
      "660\n",
      "650\n",
      "640\n",
      "630\n",
      "620\n",
      "610\n",
      "600\n",
      "590\n",
      "580\n",
      "570\n",
      "560\n",
      "550\n",
      "540\n",
      "530\n",
      "520\n",
      "510\n",
      "500\n",
      "490\n",
      "480\n",
      "470\n",
      "460\n",
      "450\n",
      "440\n",
      "430\n",
      "420\n",
      "410\n",
      "400\n",
      "390\n",
      "380\n",
      "370\n",
      "360\n",
      "350\n",
      "340\n",
      "330\n",
      "320\n",
      "310\n",
      "300\n",
      "290\n",
      "280\n",
      "270\n",
      "260\n",
      "250\n",
      "240\n",
      "230\n",
      "220\n",
      "210\n",
      "200\n",
      "190\n",
      "180\n",
      "170\n",
      "160\n",
      "150\n",
      "140\n",
      "130\n",
      "120\n",
      "110\n",
      "100\n",
      "90\n",
      "80\n",
      "70\n",
      "60\n",
      "50\n",
      "40\n",
      "30\n",
      "20\n",
      "10\n",
      "0\n"
     ]
    }
   ],
   "source": [
    "#read file for multiple channels\n",
    "channels=8\n",
    "dmafiforeq=16384 #requested number of elements of the dma fifo in the PC code, set to 2xDMA FIFO depth\n",
    "iterations=1000 #number of iterations of the PC code\n",
    "fileName = '/project/darkmatters/WINDCHIME/Protochime_data/8chan.dat'\n",
    "data_raw = numpy.fromfile(fileName, dtype=\"<i2\").tolist() #> for big endian, < for little, i2 for signed integer of 2 bytes=16 bits\n",
    "print(\"binary file received after deleting headers is size \"+str(len(data_raw)-4*iterations))\n",
    "\n",
    "#deleting headers: there is a 4 entry header {channels,0,dmafiforeq,0} at the beginning of every subarray in labview, which has dmafiforeq*channels columns\n",
    "#also, it goes in reverse so it doesnt change the header indexes to be deleted, if it wasnt reversed, the index n would be the\n",
    "#index n-4 after 1 complete iteration of the cycle\n",
    "for i in reversed(range(iterations)):\n",
    "    data_raw.pop(i*(channels*dmafiforeq+4)+3)\n",
    "    data_raw.pop(i*(channels*dmafiforeq+4)+2)\n",
    "    data_raw.pop(i*(channels*dmafiforeq+4)+1)\n",
    "    data_raw.pop(i*(channels*dmafiforeq+4))\n",
    "    if i%10==0:\n",
    "        print(i)\n",
    "#double checking\n",
    "if len(data_raw)%iterations!=0:\n",
    "    print('warning: each iteration does not have the requested number of elements')\n"
   ]
  },
  {
   "cell_type": "code",
   "execution_count": 336,
   "metadata": {
    "collapsed": true
   },
   "outputs": [],
   "source": [
    "#Creating two iteration matrixes, one for channels A1...A7, one for channels B8...B1\n",
    "iter_matrix_A=np.array(data_raw[::2])\n",
    "iter_matrix_B=np.array(data_raw[1::2])"
   ]
  },
  {
   "cell_type": "code",
   "execution_count": 345,
   "metadata": {
    "collapsed": false
   },
   "outputs": [
    {
     "data": {
      "image/png": "[encoded data removed]",
      "text/plain": [
       "<Figure size 432x288 with 1 Axes>"
      ]
     },
     "metadata": {
      "needs_background": "light"
     },
     "output_type": "display_data"
    }
   ],
   "source": [
    "plt.plot(iter_matrix_A[0:100000],linestyle='None',marker='o')\n",
    "plt.show()"
   ]
  },
  {
   "cell_type": "code",
   "execution_count": 337,
   "metadata": {
    "collapsed": false
   },
   "outputs": [],
   "source": [
    "#plt.plot(data_raw,linestyle='None',marker='o')\n",
    "#plt.plot(iter_matrix_B,linestyle='None',marker='o')\n",
    "#plt.plot(iter_matrix_A[0:20000],linestyle='None',marker='o')\n",
    "#plt.show()\n",
    "\n",
    "if iter_matrix_A.shape[0]!=iter_matrix_A.shape[0]:\n",
    "    print('array A and B are not of the same size')\n",
    "if iter_matrix_A.shape[0]+iter_matrix_A.shape[0]!=len(data_raw):\n",
    "    print('elements of A + B does not equal total number of elements')"
   ]
  },
  {
   "cell_type": "code",
   "execution_count": 338,
   "metadata": {
    "collapsed": false
   },
   "outputs": [
    {
     "name": "stdout",
     "output_type": "stream",
     "text": [
      "(8192000, 8)\n"
     ]
    }
   ],
   "source": [
    "dmafiforeq_red=int(dmafiforeq/2)\n",
    "iter_matrix=np.reshape(iter_matrix_A,(iterations,int(iter_matrix_A.shape[0]/iterations)))\n",
    "\n",
    "\n",
    "#creating one array per channel: first iterations*dmafiforeq elements in each row corresponds to channel x, x from 0 to channels\n",
    "\n",
    "\n",
    "temp0=np.reshape(iter_matrix[:,0:dmafiforeq_red],(1,dmafiforeq_red*iterations))\n",
    "temp1=np.reshape(iter_matrix[:,dmafiforeq_red:2*dmafiforeq_red],(1,dmafiforeq_red*iterations))\n",
    "temp2=np.reshape(iter_matrix[:,2*dmafiforeq_red:3*dmafiforeq_red],(1,dmafiforeq_red*iterations))\n",
    "temp3=np.reshape(iter_matrix[:,3*dmafiforeq_red:4*dmafiforeq_red],(1,dmafiforeq_red*iterations))\n",
    "temp4=np.reshape(iter_matrix[:,4*dmafiforeq_red:5*dmafiforeq_red],(1,dmafiforeq_red*iterations))\n",
    "temp5=np.reshape(iter_matrix[:,5*dmafiforeq_red:6*dmafiforeq_red],(1,dmafiforeq_red*iterations))\n",
    "temp6=np.reshape(iter_matrix[:,6*dmafiforeq_red:7*dmafiforeq_red],(1,dmafiforeq_red*iterations))\n",
    "temp7=np.reshape(iter_matrix[:,7*dmafiforeq_red:8*dmafiforeq_red],(1,dmafiforeq_red*iterations))\n",
    "\n",
    "\n",
    "channels=np.transpose(np.array([temp0[0],temp1[0],temp2[0],temp3[0],temp4[0],temp5[0],temp6[0],temp7[0]])) #1 channel per column\n",
    "print(np.shape(channels))\n",
    "\n",
    "data=pd.DataFrame(channels, columns=None) #channel 1 is labeled as 0, channel n is labeled as n-1"
   ]
  },
  {
   "cell_type": "code",
   "execution_count": 339,
   "metadata": {
    "collapsed": true
   },
   "outputs": [],
   "source": [
    "sample_freq = 1.25  #MHz\n",
    "data['time_us']= 1/sample_freq*data.index #us"
   ]
  },
  {
   "cell_type": "code",
   "execution_count": 342,
   "metadata": {
    "collapsed": false
   },
   "outputs": [
    {
     "data": {
      "image/png": "[encoded data removed]",
      "text/plain": [
       "<Figure size 1080x360 with 1 Axes>"
      ]
     },
     "metadata": {
      "needs_background": "light"
     },
     "output_type": "display_data"
    }
   ],
   "source": [
    "start=0#len(data[0])-600\n",
    "end=5000#len(data[0])\n",
    "#print(data[0][start:end])\n",
    "plt.figure(figsize=(15,5))\n",
    "plt.title(\"Sampling frequency= \"+str(sample_freq)+\" MHz\",size=20)\n",
    "\n",
    "plt.plot(data['time_us'][start:end],data[0][start:end],label='channel 1',marker='.',linestyle='none')\n",
    "#plt.plot(data['time_us'],data[1],label='channel 2',marker='.',linestyle='none')\n",
    "#plt.plot(data['time_us'],data[2],label='channel 3',marker='.',linestyle='none')\n",
    "#plt.plot(data['time_us'],data[3],label='channel 4',marker='.',linestyle='none')\n",
    "\n",
    "plt.ylabel('Volts (V)',size=15)\n",
    "plt.xlabel('time [us]',size=15)\n",
    "\n",
    "#fit_result= fit_sin(data['time_us'],data[0])\n",
    "#sin_func=fit_result['fitfunc']\n",
    "\n",
    "#plt.plot(data['time_us'][start:end],sin_func(data['time_us'][start:end]), label='fitted frequency and Amplitude=%.3f kHz, %.3f V'%(fit_result['freq']*1000,fit_result['amp']))\n",
    "plt.legend(fontsize=12, loc='best')\n",
    "#plt.ylim([-0.5,0.01])\n",
    "plt.show()"
   ]
  },
  {
   "cell_type": "code",
   "execution_count": null,
   "metadata": {
    "collapsed": false
   },
   "outputs": [],
   "source": [
    "#number of peaks found vs expected\n",
    "start=0\n",
    "end=len(data[0])\n",
    "fit_result= fit_sin(data['time_us'][start:end],data[0][start:end])\n",
    "sin_func=fit_result['fitfunc']\n",
    "import scipy.signal\n",
    "peaks=scipy.signal.find_peaks(sin_func(data['time_us'][start:end]))\n",
    "number_found=len(peaks[0])\n",
    "#print(peaks,number_found)"
   ]
  },
  {
   "cell_type": "code",
   "execution_count": null,
   "metadata": {
    "collapsed": false
   },
   "outputs": [],
   "source": [
    "input_freq=30101.5 #Hz or cycles per sec\n",
    "sampling_points=np.shape(channels)[0] #per channel\n",
    "sampling_freq=2500000#clock rate in LabView FPGA\n",
    "number_expected=sampling_points*input_freq/sampling_freq\n",
    "print(number_expected)\n",
    "cycles_lost=abs(number_expected-number_found)\n",
    "print(cycles_lost)"
   ]
  },
  {
   "cell_type": "code",
   "execution_count": null,
   "metadata": {
    "collapsed": false
   },
   "outputs": [],
   "source": [
    "#points lost in the acquiring process: each cycle takes 1/freq seconds to happen, and we take sampling_rate data points per second\n",
    "points_lost=cycles_lost*sampling_freq/input_freq\n",
    "print(points_lost)"
   ]
  },
  {
   "cell_type": "code",
   "execution_count": null,
   "metadata": {
    "collapsed": true
   },
   "outputs": [],
   "source": [
    "#first peak\n",
    "first_pk=peaks[0][0]\n",
    "last_pk=peaks[0][-1]\n",
    "points_between=last_pk-first_pk\n"
   ]
  },
  {
   "cell_type": "code",
   "execution_count": null,
   "metadata": {
    "collapsed": false
   },
   "outputs": [],
   "source": [
    "plt.hist(x = data[0][100000:], bins = 100, log = True)"
   ]
  },
  {
   "cell_type": "code",
   "execution_count": null,
   "metadata": {
    "collapsed": false
   },
   "outputs": [],
   "source": [
    "a = [1,2,3,2]\n",
    "for f in a:\n",
    "    print(a.index(f))"
   ]
  },
  {
   "cell_type": "code",
   "execution_count": null,
   "metadata": {
    "collapsed": false
   },
   "outputs": [],
   "source": [
    "print(2**13)"
   ]
  },
  {
   "cell_type": "code",
   "execution_count": null,
   "metadata": {
    "collapsed": true
   },
   "outputs": [],
   "source": []
  }
 ],
 "metadata": {
  "kernelspec": {
   "display_name": "AnaconDark Kernel",
   "language": "python",
   "name": "anacondark"
  },
  "language_info": {
   "codemirror_mode": {
    "name": "ipython",
    "version": 3
   },
   "file_extension": ".py",
   "mimetype": "text/x-python",
   "name": "python",
   "nbconvert_exporter": "python",
   "pygments_lexer": "ipython3",
   "version": "3.8.2"
  }
 },
 "nbformat": 4,
 "nbformat_minor": 5
}
